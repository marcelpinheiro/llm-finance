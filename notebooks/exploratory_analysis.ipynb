{
 "cells": [
  {
   "cell_type": "markdown",
   "metadata": {},
   "source": [
    "# Financial Data Copilot - Exploratory Analysis\n",
    "\n",
    "This notebook provides exploratory data analysis for the Financial Data Copilot project."
   ]
  },
  {
   "cell_type": "code",
   "execution_count": null,
   "metadata": {},
   "outputs": [],
   "source": [
    "import pandas as pd\n",
    "import psycopg2\n",
    "import os\n",
    "from dotenv import load_dotenv\n",
    "import matplotlib.pyplot as plt\n",
    "import seaborn as sns\n",
    "\n",
    "# Load environment variables\n",
    "load_dotenv()\n",
    "\n",
    "# Database connection\n",
    "conn = psycopg2.connect(\n",
    "    host=os.getenv(\"DB_HOST\", \"localhost\"),\n",
    "    database=os.getenv(\"DB_NAME\", \"llm_finance\"),\n",
    "    user=os.getenv(\"DB_USER\", \"postgres\"),\n",
    "    password=os.getenv(\"DB_PASSWORD\", \"postgres\"),\n",
    "    port=os.getenv(\"DB_PORT\", \"5432\")\n",
    ")\n",
    "\n",
    "# Create a cursor\n",
    "cursor = conn.cursor()"
   ]
  },
  {
   "cell_type": "markdown",
   "metadata": {},
   "source": [
    "## 1. Companies Overview"
   ]
  },
  {
   "cell_type": "code",
   "execution_count": null,
   "metadata": {},
   "outputs": [],
   "source": [
    "# Load companies data\n",
    "companies_df = pd.read_sql_query(\"SELECT * FROM finance.companies\", conn)\n",
    "companies_df.head()"
   ]
  },
  {
   "cell_type": "code",
   "execution_count": null,
   "metadata": {},
   "outputs": [],
   "source": [
    "# Sector distribution\n",
    "plt.figure(figsize=(10, 6))\n",
    "sector_counts = companies_df['sector'].value_counts()\n",
    "sns.barplot(x=sector_counts.values, y=sector_counts.index)\n",
    "plt.title('Company Distribution by Sector')\n",
    "plt.xlabel('Number of Companies')\n",
    "plt.ylabel('Sector')\n",
    "plt.show()"
   ]
  },
  {
   "cell_type": "markdown",
   "metadata": {},
   "source": [
    "## 2. Financial Statements Analysis"
   ]
  },
  {
   "cell_type": "code",
   "execution_count": null,
   "metadata": {},
   "outputs": [],
   "source": [
    "# Load financial statements data\n",
    "financial_df = pd.read_sql_query(\"\"\"\n",
    "    SELECT fs.*, c.symbol, c.name \n",
    "    FROM finance.financial_statements fs\n",
    "    JOIN finance.companies c ON fs.company_id = c.id\n",
    "\"\"\", conn)\n",
    "financial_df.head()"
   ]
  },
  {
   "cell_type": "code",
   "execution_count": null,
   "metadata": {},
   "outputs": [],
   "source": [
    "# Extract financial metrics from JSON data\n",
    "financial_df['revenue'] = financial_df['data'].apply(lambda x: x.get('revenue') if x else None)\n",
    "financial_df['net_income'] = financial_df['data'].apply(lambda x: x.get('net_income') if x else None)\n",
    "financial_df['total_assets'] = financial_df['data'].apply(lambda x: x.get('total_assets') if x else None)\n",
    "financial_df['total_liabilities'] = financial_df['data'].apply(lambda x: x.get('total_liabilities') if x else None)\n",
    "financial_df['shareholders_equity'] = financial_df['data'].apply(lambda x: x.get('shareholders_equity') if x else None)"
   ]
  },
  {
   "cell_type": "code",
   "execution_count": null,
   "metadata": {},
   "outputs": [],
   "source": [
    "# Revenue trends by company\n",
    "revenue_df = financial_df[financial_df['statement_type'] == 'income_statement'][['symbol', 'fiscal_year', 'revenue']].dropna()\n",
    "revenue_pivot = revenue_df.pivot(index='fiscal_year', columns='symbol', values='revenue')\n",
    "\n",
    "plt.figure(figsize=(12, 8))\n",
    "revenue_pivot.plot(kind='line')\n",
    "plt.title('Revenue Trends by Company')\n",
    "plt.xlabel('Fiscal Year')\n",
    "plt.ylabel('Revenue')\n",
    "plt.legend(title='Company')\n",
    "plt.show()"
   ]
  },
  {
   "cell_type": "markdown",
   "metadata": {},
   "source": [
    "## 3. Stock Price Analysis"
   ]
  },
  {
   "cell_type": "code",
   "execution_count": null,
   "metadata": {},
   "outputs": [],
   "source": [
    "# Load stock prices data\n",
    "stock_df = pd.read_sql_query(\"\"\"\n",
    "    SELECT sp.*, c.symbol, c.name \n",
    "    FROM finance.stock_prices sp\n",
    "    JOIN finance.companies c ON sp.company_id = c.id\n",
    "\"\"\", conn)\n",
    "stock_df.head()"
   ]
  },
  {
   "cell_type": "code",
   "execution_count": null,
   "metadata": {},
   "outputs": [],
   "source": [
    "# Stock price trends\n",
    "stock_df['date'] = pd.to_datetime(stock_df['date'])\n",
    "recent_stock_df = stock_df[stock_df['date'] >= '2020-01-01']\n",
    "\n",
    "plt.figure(figsize=(15, 10))\n",
    "for symbol in recent_stock_df['symbol'].unique()[:5]:  # Limit to first 5 companies for clarity\n",
    "    symbol_data = recent_stock_df[recent_stock_df['symbol'] == symbol]\n",
    "    plt.plot(symbol_data['date'], symbol_data['close_price'], label=symbol)\n",
    "    \n",
    "plt.title('Stock Price Trends')\n",
    "plt.xlabel('Date')\n",
    "plt.ylabel('Closing Price')\n",
    "plt.legend()\n",
    "plt.show()"
   ]
  },
  {
   "cell_type": "markdown",
   "metadata": {},
   "source": [
    "## 4. Document Analysis"
   ]
  },
  {
   "cell_type": "code",
   "execution_count": null,
   "metadata": {},
   "outputs": [],
   "source": [
    "# Load documents data\n",
    "documents_df = pd.read_sql_query(\"SELECT * FROM finance.documents\", conn)\n",
    "documents_df.head()"
   ]
  },
  {
   "cell_type": "code",
   "execution_count": null,
   "metadata": {},
   "outputs": [],
   "source": [
    "# Document type distribution\n",
    "plt.figure(figsize=(8, 6))\n",
    "doc_type_counts = documents_df['document_type'].value_counts()\n",
    "sns.barplot(x=doc_type_counts.values, y=doc_type_counts.index)\n",
    "plt.title('Document Distribution by Type')\n",
    "plt.xlabel('Number of Documents')\n",
    "plt.ylabel('Document Type')\n",
    "plt.show()"
   ]
  },
  {
   "cell_type": "markdown",
   "metadata": {},
   "source": [
    "## 5. Close Connection"
   ]
  },
  {
   "cell_type": "code",
   "execution_count": null,
   "metadata": {},
   "outputs": [],
   "source": [
    "# Close database connection\n",
    "cursor.close()\n",
    "conn.close()"
   ]
  }
 ],
 "metadata": {
  "kernelspec": {
   "display_name": "Python 3",
   "language": "python",
   "name": "python3"
  },
  "language_info": {
   "codemirror_mode": {
    "name": "ipython",
    "version": 3
   },
   "file_extension": ".py",
   "mimetype": "text/x-python",
   "name": "python",
   "nbconvert_exporter": "python",
   "pygments_lexer": "ipython3",
   "version": "3.8.5"
  }
 },
 "nbformat": 4,
 "nbformat_minor": 4
}
